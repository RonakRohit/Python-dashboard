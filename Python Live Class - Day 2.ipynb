{
    "cells": [
        {
            "cell_type": "markdown",
            "metadata": {
                "collapsed": true
            },
            "source": "# Python Live Class - Day 2"
        },
        {
            "cell_type": "markdown",
            "metadata": {},
            "source": "                                                                                                                                                                   -Rohit Kaushik"
        },
        {
            "cell_type": "markdown",
            "metadata": {},
            "source": "## Loops"
        },
        {
            "cell_type": "code",
            "execution_count": 14,
            "metadata": {},
            "outputs": [],
            "source": "#Suppose we want to print 'Python' 10 times"
        },
        {
            "cell_type": "markdown",
            "metadata": {},
            "source": "We can add ten print statements so that we can print \u201cPython\u201d ten times repeatedly."
        },
        {
            "cell_type": "code",
            "execution_count": 1,
            "metadata": {},
            "outputs": [
                {
                    "name": "stdout",
                    "output_type": "stream",
                    "text": "Python\nPython\nPython\nPython\nPython\nPython\nPython\nPython\nPython\nPython\n"
                }
            ],
            "source": "print(\"Python\")\nprint(\"Python\")\nprint(\"Python\")\nprint(\"Python\")\nprint(\"Python\")\nprint(\"Python\")\nprint(\"Python\")\nprint(\"Python\")\nprint(\"Python\")\nprint(\"Python\")"
        },
        {
            "cell_type": "code",
            "execution_count": null,
            "metadata": {},
            "outputs": [],
            "source": "#What if we need to print 'Python' 1000 times?\n#Will you execute a print statement 1000 times? So to minimize such lengthy coding loops are used."
        },
        {
            "cell_type": "markdown",
            "metadata": {},
            "source": "### For Loop"
        },
        {
            "cell_type": "markdown",
            "metadata": {},
            "source": "A FOR loop in python is used in executing blocks of code in iteration over a sequence. Loop continues until we reach the last item in the sequence and the block of codes that needs to be executed in a loop is identified by indentation."
        },
        {
            "cell_type": "code",
            "execution_count": 2,
            "metadata": {},
            "outputs": [
                {
                    "name": "stdout",
                    "output_type": "stream",
                    "text": "a\ne\ni\no\nu\n"
                }
            ],
            "source": "vowel = ['a', 'e', 'i', 'o', 'u']\nfor x in vowel:\n    print(x)"
        },
        {
            "cell_type": "markdown",
            "metadata": {},
            "source": "x is the variable that takes the value of the item inside the sequence on each iteration. This type of loop iterates over a collection of objects, rather than specifying numeric values or conditions."
        },
        {
            "cell_type": "code",
            "execution_count": 4,
            "metadata": {},
            "outputs": [
                {
                    "name": "stdout",
                    "output_type": "stream",
                    "text": "Key = Fruits Value = Apple\nKey = Sports Value = Cricket\nKey = Height Value = 5.8\nKey = Weight Value = 60\n"
                }
            ],
            "source": "#For loop in dictionary\nx = {'Fruits':'Apple', 'Sports':'Cricket', 'Height':'5.8', 'Weight':'60'}\nfor m,n in x.items():\n    print('Key =',m,'Value =', n)"
        },
        {
            "cell_type": "markdown",
            "metadata": {},
            "source": "In list, set, dictionary and tuple, for loop iterates on number of items present."
        },
        {
            "cell_type": "code",
            "execution_count": 5,
            "metadata": {},
            "outputs": [
                {
                    "name": "stdout",
                    "output_type": "stream",
                    "text": "5\n15\n7\n17\n9\n19\nBat\nball\n"
                }
            ],
            "source": "#For Loop in tuple\nx = (5, 7, 9, \"Bat\", \"ball\")\nfor y in x:\n    print(y)\n    if type(y)==int:\n        print(y+10)"
        },
        {
            "cell_type": "code",
            "execution_count": 6,
            "metadata": {},
            "outputs": [
                {
                    "name": "stdout",
                    "output_type": "stream",
                    "text": "11\n11\n"
                }
            ],
            "source": "#To calculate the no. of characters in string\na = \"Programming\"\nprint(len(a))\n\n#OR\nb = 0\nfor x in a:\n    b=b+1\nprint(b)"
        },
        {
            "cell_type": "code",
            "execution_count": null,
            "metadata": {},
            "outputs": [],
            "source": "#For Loop using range()"
        },
        {
            "cell_type": "markdown",
            "metadata": {},
            "source": "To define the loop iterations for a finite number of times we use range ( ). The range( ) function returns a sequence of numbers, starting from 0 by default, and increments by 1 (by default), and ends at a specified number. But, we can also define starting value, incremental value as per our requirement."
        },
        {
            "cell_type": "code",
            "execution_count": 7,
            "metadata": {},
            "outputs": [
                {
                    "name": "stdout",
                    "output_type": "stream",
                    "text": "0\n1\n2\n3\n4\n5\n6\n7\n8\n9\n10\n"
                }
            ],
            "source": "#Print first 10 whole numbers\nfor x in range(11): #starts from 0 & increment by 1\n    print(x)"
        },
        {
            "cell_type": "code",
            "execution_count": 8,
            "metadata": {},
            "outputs": [
                {
                    "name": "stdout",
                    "output_type": "stream",
                    "text": "0\n2\n4\n6\n8\n"
                }
            ],
            "source": "#Print first five even numbers\nfor x in range(0,10,2):\n    print(x)"
        },
        {
            "cell_type": "markdown",
            "metadata": {},
            "source": "## HW"
        },
        {
            "cell_type": "code",
            "execution_count": null,
            "metadata": {},
            "outputs": [],
            "source": "#PRINT SUM OF 1 TO 100"
        },
        {
            "cell_type": "markdown",
            "metadata": {},
            "source": "When a for loop is present inside another for loop then it is called a nested for loop."
        },
        {
            "cell_type": "code",
            "execution_count": 10,
            "metadata": {},
            "outputs": [
                {
                    "name": "stdout",
                    "output_type": "stream",
                    "text": "enter the no 5\n120\n"
                }
            ],
            "source": "#for inside for loop\n\n#Print the factorial of no entered by user\nx = int(input(\"enter the no \"))\nfor y in range(x-1,0,-1):   #\n    x = x*y\nprint(x)"
        },
        {
            "cell_type": "markdown",
            "metadata": {},
            "source": "## HW"
        },
        {
            "cell_type": "code",
            "execution_count": null,
            "metadata": {},
            "outputs": [],
            "source": "#Print the first 8 fabnocci series\n#A series of numbers in which each number (Fibonacci number) is the sum of the two preceding numbers. The simplest is the series 1, 1, 2, 3, 5, 8, etc."
        },
        {
            "cell_type": "markdown",
            "metadata": {},
            "source": "### While Loop"
        },
        {
            "cell_type": "markdown",
            "metadata": {},
            "source": "In the while loop, first of all the condition given is checked. If the condition is satisfied then control flow executes the given block of code and iterates the code execution. If the testing condition is not satisfied, it skips the while body statements and jumps outside the while loop block."
        },
        {
            "cell_type": "code",
            "execution_count": 11,
            "metadata": {},
            "outputs": [
                {
                    "name": "stdout",
                    "output_type": "stream",
                    "text": "Hello World\nHello World\nHello World\nHello World\nHello World\n"
                }
            ],
            "source": "#Print Hello World 5 times\nc = 5\nwhile (c>0):\n    print(\"Hello World\")\n    c = c-1"
        },
        {
            "cell_type": "markdown",
            "metadata": {},
            "source": "Break is used to exit a for loop or a while loop, whereas Continue is used to skip the current block, and return to the \u201cfor\u201d or \u201cwhile\u201d statement."
        },
        {
            "cell_type": "code",
            "execution_count": 12,
            "metadata": {},
            "outputs": [
                {
                    "name": "stdout",
                    "output_type": "stream",
                    "text": "1\n2\n3\n4\n"
                }
            ],
            "source": "#print natural numbers from 1 to 10 and stop when the number reaches 5.\nc = 1\nwhile(c<10):\n    if(c == 5):\n        break\n    print(c)\n    c = c+1"
        },
        {
            "cell_type": "markdown",
            "metadata": {},
            "source": "The continue statement is used to skip the rest of the code inside a loop for the current iteration only. Loop does not terminate but continues on with the next iteration."
        },
        {
            "cell_type": "code",
            "execution_count": 13,
            "metadata": {},
            "outputs": [
                {
                    "name": "stdout",
                    "output_type": "stream",
                    "text": "1\n2\n3\n4\n6\n7\n8\n9\n10\n"
                }
            ],
            "source": "#print numbers from one to ten and skip number 5.\nc = 0\nwhile(c<10):\n    c=c+1\n    if(c==5):\n        continue\n    print(c)"
        },
        {
            "cell_type": "markdown",
            "metadata": {},
            "source": "Pass in python is a NULL statement which is used when we have no codes to execute."
        },
        {
            "cell_type": "code",
            "execution_count": 14,
            "metadata": {},
            "outputs": [
                {
                    "name": "stdout",
                    "output_type": "stream",
                    "text": "1\n3\n5\n7\n9\n"
                }
            ],
            "source": "#print first 5 odd number\nc = 1\nwhile(c<10): \n    if(c%2==0):\n        pass\n    else:\n        print(c)\n    c=c+1"
        },
        {
            "cell_type": "code",
            "execution_count": 13,
            "metadata": {},
            "outputs": [
                {
                    "name": "stdout",
                    "output_type": "stream",
                    "text": "enter the no you want to check 17\n17 is a prime no\n"
                }
            ],
            "source": "#Program to check Prime number\n# 2, 3, 5, 7, 11, 13, 17, 19---------\n\na = int(input(\"enter the no you want to check \"))\n\nc = 0\nif(a<1):\n    print(\"invalid no\")\nelif(a==1):\n    print(\"1 is not a prime no.\")\nelse:\n    for x in range(2, a, 1):\n        if(a%x==0):\n            c = 1\n    if(c==1):\n        print(a, \"is not a prime no\")\n    else:\n        print(a, \"is a prime no\")"
        },
        {
            "cell_type": "code",
            "execution_count": 15,
            "metadata": {},
            "outputs": [
                {
                    "name": "stdout",
                    "output_type": "stream",
                    "text": "enter the no till when you want to print the series8\n1\n1\n2\n3\n5\n8\n13\n21\n"
                }
            ],
            "source": "#Print Fabnocci series\n#A series of numbers in which each number (Fibonacci number) is the sum of the two preceding numbers. The simplest is the series 1, 1, 2, 3, 5, 8, etc.\na=1\nb=0\nx = int(input(\"enter the no till when you want to print the series\"))\nfor x in range(0, x, 1):\n    c = a+b\n    a = b\n    b = c\n    print(c)"
        },
        {
            "cell_type": "markdown",
            "metadata": {},
            "source": "## HW"
        },
        {
            "cell_type": "code",
            "execution_count": null,
            "metadata": {},
            "outputs": [],
            "source": "#PROGRAM TO CHECK PALINDROME STRING\n#Palindrome string is defined as the string which can be read the same from backward and forward. It can also be defined as the string which is the same as the reversed string.\n#Some examples of palindrome strings are : madam, lol, pop, radar, rubber etc."
        },
        {
            "cell_type": "markdown",
            "metadata": {},
            "source": "## Function"
        },
        {
            "cell_type": "markdown",
            "metadata": {},
            "source": "Function is a block of one or more indented statements that perform a specific task. \nFunctions help to break our program into smaller and modular chunks. Functions are used to increase the program readability, increase code reusability and decrease code redundancy."
        },
        {
            "cell_type": "markdown",
            "metadata": {},
            "source": "Functions can be defined in one place and called or invoked in another. This helps to make code more modular and easier to understand."
        },
        {
            "cell_type": "markdown",
            "metadata": {},
            "source": "Suppose we need to write a code of 10 lines in 5 different places in a program. In normal programming we need to write 50 lines, but we can create a function and can call it whenever and wherever we need to. Hence use of function increases re-usability."
        },
        {
            "cell_type": "markdown",
            "metadata": {},
            "source": "Syntax:\n\ndef function_name(parameters) : statement(s)"
        },
        {
            "cell_type": "markdown",
            "metadata": {},
            "source": "Types of Function\n1. LIBRARY FUNCTION: These are predefined built-in functions defined in python. Example: print( ), len( ) etc. \n2. USER DEFINED FUNCTION: These are functions written by developers."
        },
        {
            "cell_type": "markdown",
            "metadata": {},
            "source": "The flow of control a program jumps to the point where the function is defined from where the function is called when the function is called. Then it executes the blocks of codes inside the function."
        },
        {
            "cell_type": "markdown",
            "metadata": {},
            "source": "The return statement is used to exit a function and go back to the place from where it was called."
        },
        {
            "cell_type": "code",
            "execution_count": 12,
            "metadata": {},
            "outputs": [
                {
                    "name": "stdout",
                    "output_type": "stream",
                    "text": "enter the length3\nenter the breadth4\n12\nenter the length4\nenter the breadth5\n20\nenter the length3\nenter the breadth6\n18\n"
                }
            ],
            "source": "def area():\n    l = int(input(\"enter the length\"))\n    b = int(input(\"enter the breadth\"))\n    a = l*b\n    print(a)\narea()\n\n#OR\n\ndef area():\n    l = int(input(\"enter the length\"))\n    b = int(input(\"enter the breadth\"))\n    a = l*b\n    return a\nx = area()\nprint(x)\n\nprint(area())\n"
        },
        {
            "cell_type": "code",
            "execution_count": 10,
            "metadata": {},
            "outputs": [
                {
                    "name": "stdout",
                    "output_type": "stream",
                    "text": "12\nenter the length3\nenter the breadth4\n12\n"
                }
            ],
            "source": "#using parameters\n\ndef area(l,b):\n    a = l*b\n    return a\nx = area(3,4)\nprint(x)\n\n#OR\n\nm= int(input(\"enter the length\"))\nn = int(input(\"enter the breadth\"))\nx = area(m,n)\nprint(x)\n"
        },
        {
            "cell_type": "markdown",
            "metadata": {},
            "source": "An argument is the value that is sent to the function when it is called.\nIn a case that argument is not passed to the function, we define a default value to the parameter."
        },
        {
            "cell_type": "code",
            "execution_count": 8,
            "metadata": {},
            "outputs": [
                {
                    "name": "stdout",
                    "output_type": "stream",
                    "text": "20\n12\n"
                }
            ],
            "source": "def area(l=3, b=4 ):\n    return l*b\nx = area(5)\nprint(x)\n\n#OR\nx = area()\nprint(x)"
        },
        {
            "cell_type": "code",
            "execution_count": null,
            "metadata": {},
            "outputs": [],
            "source": ""
        }
    ],
    "metadata": {
        "kernelspec": {
            "display_name": "Python 3.9",
            "language": "python",
            "name": "python3"
        },
        "language_info": {
            "codemirror_mode": {
                "name": "ipython",
                "version": 3
            },
            "file_extension": ".py",
            "mimetype": "text/x-python",
            "name": "python",
            "nbconvert_exporter": "python",
            "pygments_lexer": "ipython3",
            "version": "3.9.7"
        }
    },
    "nbformat": 4,
    "nbformat_minor": 1
}