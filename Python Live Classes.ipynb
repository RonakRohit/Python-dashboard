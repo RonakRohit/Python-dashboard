{
    "cells": [
        {
            "cell_type": "markdown",
            "metadata": {
                "collapsed": true
            },
            "source": "# Live Python Classes - Day 1"
        },
        {
            "cell_type": "markdown",
            "metadata": {},
            "source": "## Python as a calculator"
        },
        {
            "cell_type": "code",
            "execution_count": 1,
            "metadata": {},
            "outputs": [
                {
                    "data": {
                        "text/plain": "15"
                    },
                    "execution_count": 1,
                    "metadata": {},
                    "output_type": "execute_result"
                }
            ],
            "source": "7+8"
        },
        {
            "cell_type": "code",
            "execution_count": 2,
            "metadata": {},
            "outputs": [
                {
                    "data": {
                        "text/plain": "216"
                    },
                    "execution_count": 2,
                    "metadata": {},
                    "output_type": "execute_result"
                }
            ],
            "source": "6**3"
        },
        {
            "cell_type": "code",
            "execution_count": null,
            "metadata": {},
            "outputs": [],
            "source": "6*3"
        },
        {
            "cell_type": "code",
            "execution_count": null,
            "metadata": {},
            "outputs": [],
            "source": "2+(7-5)**4"
        },
        {
            "cell_type": "markdown",
            "metadata": {},
            "source": "## Hello World"
        },
        {
            "cell_type": "code",
            "execution_count": 3,
            "metadata": {},
            "outputs": [
                {
                    "name": "stdout",
                    "output_type": "stream",
                    "text": "Hello World\n"
                }
            ],
            "source": "print(\"Hello World\")"
        },
        {
            "cell_type": "code",
            "execution_count": null,
            "metadata": {},
            "outputs": [],
            "source": "print(4+5)"
        },
        {
            "cell_type": "markdown",
            "metadata": {},
            "source": "## Comments"
        },
        {
            "cell_type": "markdown",
            "metadata": {},
            "source": "Using comments in programs makes our code more understandable. It makes the program more readable which helps us remember why certain blocks of code were written.They are ignored by the interpreter."
        },
        {
            "cell_type": "code",
            "execution_count": 4,
            "metadata": {},
            "outputs": [],
            "source": "#This is a single line comment."
        },
        {
            "cell_type": "code",
            "execution_count": null,
            "metadata": {},
            "outputs": [],
            "source": "\"\"\"\nThis\nis \na\nmulti\nline \ncomment\n\"\"\""
        },
        {
            "cell_type": "markdown",
            "metadata": {},
            "source": "## Variables"
        },
        {
            "cell_type": "markdown",
            "metadata": {},
            "source": "Variable is defined as the reserved memory location to store the value."
        },
        {
            "cell_type": "code",
            "execution_count": 5,
            "metadata": {},
            "outputs": [
                {
                    "name": "stdout",
                    "output_type": "stream",
                    "text": "6\n"
                }
            ],
            "source": "a = 6  #a is variable\nprint(a)"
        },
        {
            "cell_type": "code",
            "execution_count": 6,
            "metadata": {},
            "outputs": [
                {
                    "name": "stdout",
                    "output_type": "stream",
                    "text": "7\n10\n"
                }
            ],
            "source": "a = 7\nprint(a) #7\na = 10 #reassigning variable value\nprint(a) # 10"
        },
        {
            "cell_type": "code",
            "execution_count": 7,
            "metadata": {},
            "outputs": [
                {
                    "ename": "NameError",
                    "evalue": "name 'a' is not defined",
                    "output_type": "error",
                    "traceback": [
                        "\u001b[0;31m---------------------------------------------------------------------------\u001b[0m",
                        "\u001b[0;31mNameError\u001b[0m                                 Traceback (most recent call last)",
                        "\u001b[0;32m/tmp/wsuser/ipykernel_230/4128495558.py\u001b[0m in \u001b[0;36m<module>\u001b[0;34m\u001b[0m\n\u001b[1;32m      1\u001b[0m \u001b[0ma\u001b[0m \u001b[0;34m=\u001b[0m \u001b[0;36m8\u001b[0m\u001b[0;34m\u001b[0m\u001b[0;34m\u001b[0m\u001b[0m\n\u001b[1;32m      2\u001b[0m \u001b[0;32mdel\u001b[0m \u001b[0ma\u001b[0m  \u001b[0;31m#del command to delete the variable a\u001b[0m\u001b[0;34m\u001b[0m\u001b[0;34m\u001b[0m\u001b[0m\n\u001b[0;32m----> 3\u001b[0;31m \u001b[0mprint\u001b[0m\u001b[0;34m(\u001b[0m\u001b[0ma\u001b[0m\u001b[0;34m)\u001b[0m  \u001b[0;31m#error as now variable a is not declared\u001b[0m\u001b[0;34m\u001b[0m\u001b[0;34m\u001b[0m\u001b[0m\n\u001b[0m",
                        "\u001b[0;31mNameError\u001b[0m: name 'a' is not defined"
                    ]
                }
            ],
            "source": "a = 8\ndel a  #del command to delete the variable a\nprint(a)  #error as now variable a is not declared"
        },
        {
            "cell_type": "markdown",
            "metadata": {},
            "source": "Rules for declaring variables\n\n1. A variable name must start with a letter or the underscore character\n2. A variable name cannot start with a number\n3. A variable name can only contain alpha-numeric characters and underscores (A-z, 0-9, and _ )\n4. Variable names are case-sensitive (age, Age and AGE are three different variables)"
        },
        {
            "cell_type": "code",
            "execution_count": 8,
            "metadata": {},
            "outputs": [
                {
                    "ename": "SyntaxError",
                    "evalue": "invalid syntax (1760453947.py, line 2)",
                    "output_type": "error",
                    "traceback": [
                        "\u001b[0;36m  File \u001b[0;32m\"/tmp/wsuser/ipykernel_230/1760453947.py\"\u001b[0;36m, line \u001b[0;32m2\u001b[0m\n\u001b[0;31m    print(%Test01)\u001b[0m\n\u001b[0m          ^\u001b[0m\n\u001b[0;31mSyntaxError\u001b[0m\u001b[0;31m:\u001b[0m invalid syntax\n"
                    ]
                }
            ],
            "source": "%Test01 = 12\nprint(%Test01)"
        },
        {
            "cell_type": "code",
            "execution_count": 9,
            "metadata": {},
            "outputs": [
                {
                    "name": "stdout",
                    "output_type": "stream",
                    "text": "12\n"
                }
            ],
            "source": "_Test01 = 12\nprint(_Test01)"
        },
        {
            "cell_type": "code",
            "execution_count": 10,
            "metadata": {},
            "outputs": [
                {
                    "name": "stdout",
                    "output_type": "stream",
                    "text": "sum of 5 & 7 is 12\n"
                }
            ],
            "source": "#Adding two numbers a & b\na = 5\nb = 7\nc = a+b\nprint(\"sum of\", a ,\"&\", b, \"is\", c)   #use of comma is necessary "
        },
        {
            "cell_type": "code",
            "execution_count": 11,
            "metadata": {},
            "outputs": [
                {
                    "name": "stdout",
                    "output_type": "stream",
                    "text": "a = 9\nb = 8\n"
                }
            ],
            "source": "# Swapping of two numbers\na = 8 # a = 9\nb = 9 #b = 8\n#1. by introducing a new variable\nc = a  # c = 8\na = b  # a = 9\nb = c #b = 8\nprint(\"a =\", a)\nprint(\"b =\", b)"
        },
        {
            "cell_type": "code",
            "execution_count": 12,
            "metadata": {},
            "outputs": [
                {
                    "name": "stdout",
                    "output_type": "stream",
                    "text": "a= 9\nb= 8\n"
                }
            ],
            "source": "# Swapping of two numbers\na = 8\nb = 9\n#2. without new variable using adding and subtraction\na = a+b  #17\nb = a-b #8\na = a-b  #9\nprint(\"a=\", a)\nprint(\"b=\", b)"
        },
        {
            "cell_type": "markdown",
            "metadata": {},
            "source": "## HW"
        },
        {
            "cell_type": "code",
            "execution_count": 6,
            "metadata": {},
            "outputs": [
                {
                    "name": "stdout",
                    "output_type": "stream",
                    "text": "a= 9\nb = 8\n"
                }
            ],
            "source": "# Swapping of two numbers\na = 8\nb = 9\n#3.  without new variable using multiplication and division\na = int(a*b)  #72\nb = int(a/b)  #8.0\na = int(a/b)   #9.0\nprint(\"a=\", a)  #int()\nprint(\"b =\", b)"
        },
        {
            "cell_type": "code",
            "execution_count": 1,
            "metadata": {},
            "outputs": [
                {
                    "name": "stdout",
                    "output_type": "stream",
                    "text": "a= 9\nb= 8\n"
                }
            ],
            "source": "# Swapping of two numbers\na = 8\nb = 9\n#4. using swap construct\na,b = b,a\nprint(\"a=\", a)\nprint(\"b=\", b)"
        },
        {
            "cell_type": "markdown",
            "metadata": {},
            "source": "## User Input"
        },
        {
            "cell_type": "markdown",
            "metadata": {},
            "source": "Input ( ) function takes user input and then evaluates the expression which means Python determines automatically if the user has entered a string or a number or a list. By default, data from the user is stored as a string."
        },
        {
            "cell_type": "code",
            "execution_count": 4,
            "metadata": {},
            "outputs": [
                {
                    "name": "stdout",
                    "output_type": "stream",
                    "text": "enter a value13\n13\n<class 'str'>\n"
                }
            ],
            "source": "x = input(\"enter a value\")  #input()\nprint(x)\nprint(type(x))"
        },
        {
            "cell_type": "code",
            "execution_count": 5,
            "metadata": {},
            "outputs": [
                {
                    "name": "stdout",
                    "output_type": "stream",
                    "text": "enter a value13\n<class 'int'>\n"
                }
            ],
            "source": "x = int(input(\"enter a value\"))  #int()\nprint(type(x))"
        },
        {
            "cell_type": "code",
            "execution_count": null,
            "metadata": {},
            "outputs": [],
            "source": "# taking user's name and age as input\nname = input(\"what is your name? \")\nage = input(\"what is your age? \")\nprint(name, \"is\", age, \"years old\")"
        },
        {
            "cell_type": "markdown",
            "metadata": {},
            "source": "## HW"
        },
        {
            "cell_type": "code",
            "execution_count": null,
            "metadata": {},
            "outputs": [],
            "source": "#Finding simple interest SI"
        },
        {
            "cell_type": "markdown",
            "metadata": {},
            "source": "## Data Type"
        },
        {
            "cell_type": "markdown",
            "metadata": {},
            "source": "Data type is a data storage format that can contain a specific type or range of values. When computer programs store data in variables, each variable must be assigned a specific data type. In Python programming language, everything is an object. Thus, data types are treated as classes.\n\nPython has the following data types built-in by default, in these categories:\n1. Text Type:\tstr\n2. Numeric Types:\tint, float, complex\n3. Sequence Types:\tlist, tuple, range\n3. Mapping Type:\tdict\n4. Set Types:\tset, frozenset\n5. Boolean Type:\tbool\n6. Binary Types:\tbytes, bytearray, memoryview"
        },
        {
            "cell_type": "markdown",
            "metadata": {},
            "source": "As Python is a dynamically typed language, you don\u2019t need to define the type of the variable while declaring it. The interpreter implicitly binds the value with its type. To check the type of data stored, use built-in function type()."
        },
        {
            "cell_type": "code",
            "execution_count": 7,
            "metadata": {},
            "outputs": [
                {
                    "name": "stdout",
                    "output_type": "stream",
                    "text": "<class 'int'>\n"
                }
            ],
            "source": "x = 4   #type()\nprint(type(x))"
        },
        {
            "cell_type": "code",
            "execution_count": 8,
            "metadata": {},
            "outputs": [
                {
                    "name": "stdout",
                    "output_type": "stream",
                    "text": "<class 'str'>\n"
                }
            ],
            "source": "y = \"Live Python Classes\"\nprint(type(y)) "
        },
        {
            "cell_type": "code",
            "execution_count": 9,
            "metadata": {},
            "outputs": [
                {
                    "name": "stdout",
                    "output_type": "stream",
                    "text": "<class 'float'>\n<class 'float'>\n"
                }
            ],
            "source": "z = 5.48\nprint(type(z))\nu = 5.48e8\nprint(type(u))"
        },
        {
            "cell_type": "code",
            "execution_count": 10,
            "metadata": {},
            "outputs": [
                {
                    "name": "stdout",
                    "output_type": "stream",
                    "text": "<class 'NoneType'>\n"
                }
            ],
            "source": "s = None\nprint(type(s))"
        },
        {
            "cell_type": "code",
            "execution_count": 11,
            "metadata": {},
            "outputs": [
                {
                    "name": "stdout",
                    "output_type": "stream",
                    "text": "<class 'complex'>\n"
                }
            ],
            "source": "v = 4j\nprint(type(v))"
        },
        {
            "cell_type": "code",
            "execution_count": 12,
            "metadata": {},
            "outputs": [
                {
                    "name": "stdout",
                    "output_type": "stream",
                    "text": "<class 'bool'>\n"
                }
            ],
            "source": "w = 5>3\nprint(type(w))"
        },
        {
            "cell_type": "code",
            "execution_count": 13,
            "metadata": {},
            "outputs": [
                {
                    "name": "stdout",
                    "output_type": "stream",
                    "text": "<class 'list'>\n"
                }
            ],
            "source": "x = [\"apple\", \"banana\", \"cherry\"]\nprint(type(x))"
        },
        {
            "cell_type": "code",
            "execution_count": 14,
            "metadata": {},
            "outputs": [
                {
                    "name": "stdout",
                    "output_type": "stream",
                    "text": "<class 'tuple'>\n"
                }
            ],
            "source": "a = (5, \"UPES\", 3.14)\nprint(type(a))"
        },
        {
            "cell_type": "code",
            "execution_count": 15,
            "metadata": {},
            "outputs": [
                {
                    "name": "stdout",
                    "output_type": "stream",
                    "text": "<class 'set'>\n"
                }
            ],
            "source": "b = {2, 4, 6, 8}\nprint(type(b))"
        },
        {
            "cell_type": "code",
            "execution_count": 16,
            "metadata": {},
            "outputs": [
                {
                    "name": "stdout",
                    "output_type": "stream",
                    "text": "<class 'dict'>\n"
                }
            ],
            "source": "c = {1:\"Sem 1\", 2:\"Sem 2\", 3:\"Sem 4\"}\nprint(type(c))"
        },
        {
            "cell_type": "code",
            "execution_count": 17,
            "metadata": {},
            "outputs": [
                {
                    "name": "stdout",
                    "output_type": "stream",
                    "text": "<class 'range'>\n"
                }
            ],
            "source": "d = range(4)\nprint(type(d))"
        },
        {
            "cell_type": "code",
            "execution_count": 18,
            "metadata": {},
            "outputs": [
                {
                    "name": "stdout",
                    "output_type": "stream",
                    "text": "<class 'frozenset'>\n"
                }
            ],
            "source": "e = frozenset({\"apple\", \"banana\", \"cherry\"})\nprint(type(e))"
        },
        {
            "cell_type": "code",
            "execution_count": 20,
            "metadata": {},
            "outputs": [
                {
                    "name": "stdout",
                    "output_type": "stream",
                    "text": "<class 'bytes'>\n"
                }
            ],
            "source": "f = b\"Rohit\"\nprint(type(f))"
        },
        {
            "cell_type": "code",
            "execution_count": 21,
            "metadata": {},
            "outputs": [
                {
                    "name": "stdout",
                    "output_type": "stream",
                    "text": "<class 'bytearray'>\n"
                }
            ],
            "source": "g = bytearray(5)\nprint(type(g))"
        },
        {
            "cell_type": "code",
            "execution_count": 22,
            "metadata": {},
            "outputs": [
                {
                    "name": "stdout",
                    "output_type": "stream",
                    "text": "<class 'memoryview'>\n"
                }
            ],
            "source": "h = memoryview(bytes(5))\nprint(type(h))"
        },
        {
            "cell_type": "code",
            "execution_count": 25,
            "metadata": {},
            "outputs": [
                {
                    "name": "stdout",
                    "output_type": "stream",
                    "text": "64\n"
                }
            ],
            "source": "#To find the size of datatype\nimport sys   #sys.getsizeof()\nc = [\"Hello\"]\nprint(sys.getsizeof(c))"
        },
        {
            "cell_type": "code",
            "execution_count": 27,
            "metadata": {
                "scrolled": true
            },
            "outputs": [
                {
                    "name": "stdout",
                    "output_type": "stream",
                    "text": "3\n3.0\n(44+0j)\n[5, 4, 3]\n('Hello', 'World')\n"
                }
            ],
            "source": "#Typecasting\nprint(int(3.3333))  #int()\nprint(float(3))   #float()\nprint(complex(44))\n\nt = (5, 4, 3)\nprint(list(t))\n\nl = [\"Hello\", \"World\"]\nprint(tuple(l))"
        },
        {
            "cell_type": "markdown",
            "metadata": {},
            "source": "## Strings "
        },
        {
            "cell_type": "markdown",
            "metadata": {},
            "source": "Strings in python are created using single (\u2018 \u2018), double (\u201d \u201c) or triple (\u201d\u2019/ ) quotes terminated by corresponding quotes. Triple-quoted strings are useful when the contents of a string literal span multiple lines of text."
        },
        {
            "cell_type": "code",
            "execution_count": 28,
            "metadata": {},
            "outputs": [
                {
                    "name": "stdout",
                    "output_type": "stream",
                    "text": "Fruits\n"
                }
            ],
            "source": "x = 'Fruits'\nprint(x)"
        },
        {
            "cell_type": "code",
            "execution_count": 29,
            "metadata": {},
            "outputs": [
                {
                    "ename": "SyntaxError",
                    "evalue": "invalid syntax (361786860.py, line 1)",
                    "output_type": "error",
                    "traceback": [
                        "\u001b[0;36m  File \u001b[0;32m\"/tmp/wsuser/ipykernel_335/361786860.py\"\u001b[0;36m, line \u001b[0;32m1\u001b[0m\n\u001b[0;31m    x = 'I'll come to college'\u001b[0m\n\u001b[0m           ^\u001b[0m\n\u001b[0;31mSyntaxError\u001b[0m\u001b[0;31m:\u001b[0m invalid syntax\n"
                    ]
                }
            ],
            "source": "x = 'I'll come to college'"
        },
        {
            "cell_type": "code",
            "execution_count": 30,
            "metadata": {},
            "outputs": [
                {
                    "name": "stdout",
                    "output_type": "stream",
                    "text": "I'll come to college\n"
                }
            ],
            "source": "x = \"I'll come to college\"\nprint(x)"
        },
        {
            "cell_type": "code",
            "execution_count": 31,
            "metadata": {},
            "outputs": [
                {
                    "name": "stdout",
                    "output_type": "stream",
                    "text": "\nDear Students\nKindly attend all the classes regularly.\nThankyou\n\n<class 'str'>\n"
                }
            ],
            "source": "x = '''\nDear Students\nKindly attend all the classes regularly.\nThankyou\n'''\nprint(x)\nprint(type(x))"
        },
        {
            "cell_type": "code",
            "execution_count": 32,
            "metadata": {},
            "outputs": [
                {
                    "name": "stdout",
                    "output_type": "stream",
                    "text": "11\n"
                }
            ],
            "source": "#To find length of string\nx= \"Halliburton\"   #len()\nprint(len(x))"
        },
        {
            "cell_type": "code",
            "execution_count": 33,
            "metadata": {},
            "outputs": [
                {
                    "name": "stdout",
                    "output_type": "stream",
                    "text": "exxon mobil\n0\n6\n-1\nBAKER HUGES\nFalse\nTrue\n"
                }
            ],
            "source": "#String Methods\nx = \"EXXON MOBIL\"\nprint(x.lower())\nprint(x.count('o'))\nprint(x.find('M'))\nprint(x.find('e'))     #returns -1 if the value is not found\nprint(x.replace(\"EXXON MOBIL\", \"BAKER HUGES\"))\nprint(x.isalpha())\nprint(x.endswith(\"MOBIL\"))"
        },
        {
            "cell_type": "markdown",
            "metadata": {},
            "source": "#### Slicing"
        },
        {
            "cell_type": "markdown",
            "metadata": {},
            "source": "Slicing operator [ ] can be used with string. Strings are stored as sequences of characters indexed by integers, starting at zero. To extract a single character, use the indexing operator s[i] like this:"
        },
        {
            "cell_type": "code",
            "execution_count": 34,
            "metadata": {},
            "outputs": [
                {
                    "name": "stdout",
                    "output_type": "stream",
                    "text": "a\n"
                }
            ],
            "source": "s = \"Laptop\"\nprint(s[1])"
        },
        {
            "cell_type": "code",
            "execution_count": null,
            "metadata": {},
            "outputs": [],
            "source": "#+---+---+---+---+---+---+ \n#| P | y | t | h | o | n | \n#+---+---+---+---+---+---+ \n# 0   1   2   3   4   5 \n# -6  -5  -4  -3  -2  -1 "
        },
        {
            "cell_type": "code",
            "execution_count": 37,
            "metadata": {},
            "outputs": [
                {
                    "name": "stdout",
                    "output_type": "stream",
                    "text": "th\ny\ny\nth\nnohtyP\nPython\nPh\n"
                }
            ],
            "source": "lang = \"Python\"\nprint(lang[2:4])\nprint(lang[-5])\nprint(lang[1])\nprint(lang[-4:-2])\nprint(lang[::-1])   #reverse a string\nprint(lang[::])\nprint(lang[::3])    #Skip 2 character"
        },
        {
            "cell_type": "markdown",
            "metadata": {},
            "source": "\u201cIn slicing, the start is always included, and the end always excluded \u201c"
        },
        {
            "cell_type": "markdown",
            "metadata": {},
            "source": "#### String Concatenation"
        },
        {
            "cell_type": "code",
            "execution_count": 38,
            "metadata": {},
            "outputs": [
                {
                    "name": "stdout",
                    "output_type": "stream",
                    "text": "I Love Python\n"
                }
            ],
            "source": "a = \"I \"\nb = \"Love \"\nprint(a + b + \"Python\")"
        },
        {
            "cell_type": "code",
            "execution_count": 45,
            "metadata": {},
            "outputs": [
                {
                    "name": "stdout",
                    "output_type": "stream",
                    "text": "5 6 sum is 11\nDiwas Pandey is an AI expert\nDiwas\tPandey  is an AI expert\n"
                }
            ],
            "source": "#FORMATTED STRINGS\nfirst_name = \"Diwas\"   # f'{a} {b} sum is 2'\nlast_name = \"Pandey\"\n\na = 5\nb = 6\nmsg = f'{a} {b} sum is 11'\nprint(msg)\nmsg = f'{first_name} {last_name} is an AI expert'\nprint(msg)\n\nprint( first_name+\"\\t\" +last_name, \" is an AI expert\")"
        },
        {
            "cell_type": "markdown",
            "metadata": {},
            "source": "Formatted string in python is used to generate dynamic text from the variables. The curly bracket in formatted string defines place holders and when we run code, these place holders get filled with values of previously defined variables.\nwe define formatted string with \u2018f\u2019 and curly bracket."
        },
        {
            "cell_type": "markdown",
            "metadata": {},
            "source": "## Lists"
        },
        {
            "cell_type": "markdown",
            "metadata": {},
            "source": "In python, the most basic data structure is a sequence where a number is assigned by its position or index to each part of a sequence.\n\nLists are defined as the sequence of arbitrary objects enclosed by square brackets. Lists are ordered and changeable, separated by commas, and often consisting of a number of compound data types. lists are a mutable type, i.e. it is possible to change their content."
        },
        {
            "cell_type": "code",
            "execution_count": 46,
            "metadata": {},
            "outputs": [
                {
                    "name": "stdout",
                    "output_type": "stream",
                    "text": "Mango\n['Apple', 'Banana', 'Cherry', 'Mango', 10, 13, 15]\n['Apple', 'Banana', 'Cherry', 'Mango', 10, 13, 15, 'Tomato']\n['Cherry', 'Mango']\n['Apple', 'Banana', 'Cherry', 'Mango']\n['Mango', 'Cherry', 'Banana', 'Apple']\n"
                }
            ],
            "source": "a = ['Apple', 'Banana', 'Cherry', 'Mango', 10, 13, 15]\nprint(a[3])   #indexing\nprint(a)\na.append('Tomato') #inserting items \nprint(a)\nprint(a[2:4])  #slicing\n\na = ['Cherry', 'Mango','Apple', 'Banana']\na.sort() #sorting\nprint(a)\na.sort(reverse=True)\nprint(a)"
        },
        {
            "cell_type": "code",
            "execution_count": 48,
            "metadata": {},
            "outputs": [
                {
                    "name": "stdout",
                    "output_type": "stream",
                    "text": "[[1, 3, 5, 7, 9], [2, 4, 6, 8, 10]]\n[1, 3, 5, 7, 9]\n"
                }
            ],
            "source": "#2D List\na = [1,3,5,7,9]\nb = [2,4,6,8,10]\nc =[a,b]\nprint(c)\nprint(c[0])"
        },
        {
            "cell_type": "markdown",
            "metadata": {},
            "source": "## Tuple "
        },
        {
            "cell_type": "markdown",
            "metadata": {},
            "source": " Tuple is an ordered sequence of items but is immutable i.e items of a tuple can not be changed.Tuples are used for those data which are write-protected and can not be changed later. Tuples are written within parentheses ( ) and separated by commas.\n \n \u201cSince we can\u2019t change values in tuples, so iteration in tuples is faster than list & the speed of execution is faster in tuples. \u201c"
        },
        {
            "cell_type": "code",
            "execution_count": 1,
            "metadata": {},
            "outputs": [
                {
                    "name": "stdout",
                    "output_type": "stream",
                    "text": "7\n"
                },
                {
                    "ename": "AttributeError",
                    "evalue": "'tuple' object has no attribute 'append'",
                    "output_type": "error",
                    "traceback": [
                        "\u001b[0;31m---------------------------------------------------------------------------\u001b[0m",
                        "\u001b[0;31mAttributeError\u001b[0m                            Traceback (most recent call last)",
                        "\u001b[0;32m/tmp/wsuser/ipykernel_475/1295629313.py\u001b[0m in \u001b[0;36m<module>\u001b[0;34m\u001b[0m\n\u001b[1;32m      1\u001b[0m \u001b[0ma\u001b[0m \u001b[0;34m=\u001b[0m \u001b[0;34m(\u001b[0m\u001b[0;36m1\u001b[0m\u001b[0;34m,\u001b[0m\u001b[0;36m3\u001b[0m\u001b[0;34m,\u001b[0m\u001b[0;36m5\u001b[0m\u001b[0;34m,\u001b[0m\u001b[0;36m7\u001b[0m\u001b[0;34m,\u001b[0m\u001b[0;36m9\u001b[0m\u001b[0;34m)\u001b[0m\u001b[0;34m\u001b[0m\u001b[0;34m\u001b[0m\u001b[0m\n\u001b[1;32m      2\u001b[0m \u001b[0mprint\u001b[0m\u001b[0;34m(\u001b[0m\u001b[0ma\u001b[0m\u001b[0;34m[\u001b[0m\u001b[0;36m3\u001b[0m\u001b[0;34m]\u001b[0m\u001b[0;34m)\u001b[0m\u001b[0;34m\u001b[0m\u001b[0;34m\u001b[0m\u001b[0m\n\u001b[0;32m----> 3\u001b[0;31m \u001b[0mprint\u001b[0m\u001b[0;34m(\u001b[0m\u001b[0ma\u001b[0m\u001b[0;34m.\u001b[0m\u001b[0mappend\u001b[0m\u001b[0;34m(\u001b[0m\u001b[0;36m11\u001b[0m\u001b[0;34m)\u001b[0m\u001b[0;34m)\u001b[0m  \u001b[0;31m#error as tuple items can't be changed.\u001b[0m\u001b[0;34m\u001b[0m\u001b[0;34m\u001b[0m\u001b[0m\n\u001b[0m",
                        "\u001b[0;31mAttributeError\u001b[0m: 'tuple' object has no attribute 'append'"
                    ]
                }
            ],
            "source": "a = (1,3,5,7,9)\nprint(a[3])\nprint(a.append(11))  #error as tuple items can't be changed."
        },
        {
            "cell_type": "code",
            "execution_count": 2,
            "metadata": {},
            "outputs": [
                {
                    "name": "stdout",
                    "output_type": "stream",
                    "text": "1\n2\n(9, 7, 5, 3, 1)\nNone\n(1, 3, 5, 7)\n"
                }
            ],
            "source": "print(a.count(3))\nprint(a.index(5))\nprint(a[::-1])     #slicing\nl= list(a) #tuple to list conversion\nprint(l.remove(9))\na = tuple(l)   #list to tuple\nprint(a)   "
        },
        {
            "cell_type": "markdown",
            "metadata": {},
            "source": "## Set"
        },
        {
            "cell_type": "markdown",
            "metadata": {},
            "source": "Set is the collection of unordered and un-indexed objects. Also, the set is defined by values separated by comma inside braces { }. Sets support a standard collection of operations, including union, intersection, difference, and symmetric. It is a collection of unique elements."
        },
        {
            "cell_type": "code",
            "execution_count": 3,
            "metadata": {},
            "outputs": [
                {
                    "name": "stdout",
                    "output_type": "stream",
                    "text": "{2, 4, 5, 6, 7, 8, 9}\n"
                }
            ],
            "source": "a = {2,4,5,6,7,8,9,2}\nprint(a)"
        },
        {
            "cell_type": "code",
            "execution_count": 4,
            "metadata": {},
            "outputs": [
                {
                    "ename": "TypeError",
                    "evalue": "'set' object is not subscriptable",
                    "output_type": "error",
                    "traceback": [
                        "\u001b[0;31m---------------------------------------------------------------------------\u001b[0m",
                        "\u001b[0;31mTypeError\u001b[0m                                 Traceback (most recent call last)",
                        "\u001b[0;32m/tmp/wsuser/ipykernel_475/333945715.py\u001b[0m in \u001b[0;36m<module>\u001b[0;34m\u001b[0m\n\u001b[0;32m----> 1\u001b[0;31m \u001b[0mprint\u001b[0m\u001b[0;34m(\u001b[0m\u001b[0ma\u001b[0m\u001b[0;34m[\u001b[0m\u001b[0;36m2\u001b[0m\u001b[0;34m]\u001b[0m\u001b[0;34m)\u001b[0m \u001b[0;31m#error set doesn't support indexing\u001b[0m\u001b[0;34m\u001b[0m\u001b[0;34m\u001b[0m\u001b[0m\n\u001b[0m",
                        "\u001b[0;31mTypeError\u001b[0m: 'set' object is not subscriptable"
                    ]
                }
            ],
            "source": "print(a[2]) #error set doesn't support indexing"
        },
        {
            "cell_type": "code",
            "execution_count": 5,
            "metadata": {},
            "outputs": [
                {
                    "name": "stdout",
                    "output_type": "stream",
                    "text": "{1, 2, 3, 4, 5, 6, 7, 8, 9}\n{2}\n{1, 3, 5, 7, 9}\n{1, 3, 4, 5, 6, 7, 8, 9}\n"
                }
            ],
            "source": "#Set Operations\na = {1,2,3,5,7,9}\nb = {2, 4, 6, 8}\nprint(a|b) #union  #|\nprint(a&b) #intersection  #&\nprint(a-b) #difference  #-\nprint(a^b) #symmetric differnce- the set of elements that are in either of the sets and not in their intersection  #^\n"
        },
        {
            "cell_type": "code",
            "execution_count": 7,
            "metadata": {},
            "outputs": [
                {
                    "name": "stdout",
                    "output_type": "stream",
                    "text": "5\n{1, 2, 3, 5, 9}\n5\n"
                }
            ],
            "source": "print(len(a))\na.discard(7) #removing items\nprint(len(a))"
        },
        {
            "cell_type": "markdown",
            "metadata": {},
            "source": "## Dictionary"
        },
        {
            "cell_type": "markdown",
            "metadata": {},
            "source": "Dictionary, a pair of values, one being the Key and the other corresponding pair element being its Key: value, is a collection of unordered, indexed, and mutable data values. It is generally used when we have a huge amount of data. Python dictionaries are written with curly brackets { } with each item being a pair in the form key: value. A dictionary in python is also defined as an associative array or hash table that contains objects indexed by keys."
        },
        {
            "cell_type": "code",
            "execution_count": 8,
            "metadata": {},
            "outputs": [
                {
                    "name": "stdout",
                    "output_type": "stream",
                    "text": "arman\n"
                },
                {
                    "ename": "KeyError",
                    "evalue": "'weight'",
                    "output_type": "error",
                    "traceback": [
                        "\u001b[0;31m---------------------------------------------------------------------------\u001b[0m",
                        "\u001b[0;31mKeyError\u001b[0m                                  Traceback (most recent call last)",
                        "\u001b[0;32m/tmp/wsuser/ipykernel_475/841793711.py\u001b[0m in \u001b[0;36m<module>\u001b[0;34m\u001b[0m\n\u001b[1;32m      1\u001b[0m \u001b[0ma\u001b[0m \u001b[0;34m=\u001b[0m \u001b[0;34m{\u001b[0m\u001b[0;34m'name'\u001b[0m\u001b[0;34m:\u001b[0m\u001b[0;34m'arman'\u001b[0m\u001b[0;34m,\u001b[0m \u001b[0;34m'age'\u001b[0m\u001b[0;34m:\u001b[0m\u001b[0;36m32\u001b[0m\u001b[0;34m,\u001b[0m \u001b[0;34m'blood group'\u001b[0m\u001b[0;34m:\u001b[0m \u001b[0;34m'B+'\u001b[0m\u001b[0;34m,\u001b[0m \u001b[0;34m'height'\u001b[0m\u001b[0;34m:\u001b[0m\u001b[0;36m5.9\u001b[0m\u001b[0;34m}\u001b[0m\u001b[0;34m\u001b[0m\u001b[0;34m\u001b[0m\u001b[0m\n\u001b[1;32m      2\u001b[0m \u001b[0mprint\u001b[0m\u001b[0;34m(\u001b[0m\u001b[0ma\u001b[0m\u001b[0;34m[\u001b[0m\u001b[0;34m'name'\u001b[0m\u001b[0;34m]\u001b[0m\u001b[0;34m)\u001b[0m\u001b[0;34m\u001b[0m\u001b[0;34m\u001b[0m\u001b[0m\n\u001b[0;32m----> 3\u001b[0;31m \u001b[0mprint\u001b[0m\u001b[0;34m(\u001b[0m\u001b[0ma\u001b[0m\u001b[0;34m[\u001b[0m\u001b[0;34m'weight'\u001b[0m\u001b[0;34m]\u001b[0m\u001b[0;34m)\u001b[0m \u001b[0;31m#error as weight is not present in dictionary\u001b[0m\u001b[0;34m\u001b[0m\u001b[0;34m\u001b[0m\u001b[0m\n\u001b[0m",
                        "\u001b[0;31mKeyError\u001b[0m: 'weight'"
                    ]
                }
            ],
            "source": "a = {'name':'arman', 'age':32, 'blood group': 'B+', 'height':5.9}\nprint(a['name'])\nprint(a['weight']) #error as weight is not present in dictionary"
        },
        {
            "cell_type": "code",
            "execution_count": 9,
            "metadata": {},
            "outputs": [
                {
                    "name": "stdout",
                    "output_type": "stream",
                    "text": "None\n"
                }
            ],
            "source": "#To avoid this we can use get() method\nprint(a.get('weight'))"
        },
        {
            "cell_type": "markdown",
            "metadata": {},
            "source": "Reference object in a dictionary is called key while data is the value. The key can be string or number but the value can be number, string, a boolean, a list anything."
        },
        {
            "cell_type": "markdown",
            "metadata": {},
            "source": "Any attempt to use the same key again will simply delete the previously stored value which means each key in a dictionary should be unique."
        },
        {
            "cell_type": "code",
            "execution_count": 10,
            "metadata": {},
            "outputs": [
                {
                    "name": "stdout",
                    "output_type": "stream",
                    "text": "dict_items([('Fruits', ['Apple', 'Banana', 'Mango', 'Cherry']), ('Vegetables', ['Tomato', 'Potato', 'Onion', 'Spinach', 'Radish']), ('Sports', ['Football', 'Volleyball', 'Cricket', 'Badminton'])])\ndict_keys(['Fruits', 'Vegetables', 'Sports'])\ndict_values([['Apple', 'Banana', 'Mango', 'Cherry'], ['Tomato', 'Potato', 'Onion', 'Spinach', 'Radish'], ['Football', 'Volleyball', 'Cricket', 'Badminton']])\n"
                }
            ],
            "source": "#We can use value as a list/dict for the same key.\na = {'Fruits':['Apple', 'Banana', 'Mango', 'Cherry'], 'Vegetables':['Tomato', 'Potato', 'Onion', 'Spinach', 'Radish'], 'Sports':['Football', 'Volleyball', 'Cricket', 'Badminton']}\nprint(a.items())\nprint(a.keys())\nprint(a.values())"
        },
        {
            "cell_type": "markdown",
            "metadata": {},
            "source": "## Boolean"
        },
        {
            "cell_type": "markdown",
            "metadata": {},
            "source": "The boolean data type in python consists of two value i.e. True or False. Bool ( ) generally accepts one parameter, which on testing procedure yields True or False output. If no parameter is passed, the default output is False in boolean in python."
        },
        {
            "cell_type": "code",
            "execution_count": 11,
            "metadata": {},
            "outputs": [
                {
                    "name": "stdout",
                    "output_type": "stream",
                    "text": "False\nTrue\nFalse\nTrue\nFalse\nTrue\n"
                }
            ],
            "source": "print(5<3)\na= [2,3,5]\nprint(bool(a)) #returns true if items are there\nprint(bool(0)) #Number is True, except 0.\n\ns = \"Hello\"\nprint(bool(s))\ns = None\nprint(bool(s))\n\nprint(bool(1))"
        },
        {
            "cell_type": "markdown",
            "metadata": {},
            "source": "## Operators"
        },
        {
            "cell_type": "markdown",
            "metadata": {},
            "source": "Operators are symbols which are used to perform operations on values and variables.The data items are referred to as operands or arguments.\n\n\u25cf Arithmetic operators \n\u25cf Comparison operators \n\u25cf Assignment Operators \n\u25cf Logical Operators \n\u25cf Bitwise Operators \n\u25cf Membership Operators \n\u25cf Identity Operators"
        },
        {
            "cell_type": "markdown",
            "metadata": {},
            "source": "##### Arithmetic Operator"
        },
        {
            "cell_type": "markdown",
            "metadata": {},
            "source": "These operators in python are used to perform arithmetic operations like addition, subtraction, multiplication, division, etc."
        },
        {
            "cell_type": "code",
            "execution_count": 12,
            "metadata": {},
            "outputs": [
                {
                    "name": "stdout",
                    "output_type": "stream",
                    "text": "8\n2\n15\n1.6666666666666667\n1\n125\n2\n-5\n5\n"
                }
            ],
            "source": "a = 5\nb = 3\n\nprint(a+b) #Addition\nprint(a-b) #Subtraction\nprint(a*b) #Multiplication\nprint(a/b) #True division\nprint(a//b) #Floor division\nprint(a**b) #Exponential\nprint(a%b) #Modulus\nprint(-a) #Negation\nprint(+a) #Unary plus"
        },
        {
            "cell_type": "markdown",
            "metadata": {},
            "source": "#### Assignment Operator"
        },
        {
            "cell_type": "markdown",
            "metadata": {},
            "source": "Assignment operator in python to assign values of the right expression to the left operand. Usually, \u2018=\u2019 operator is used to assign value to the variable."
        },
        {
            "cell_type": "code",
            "execution_count": 13,
            "metadata": {},
            "outputs": [
                {
                    "name": "stdout",
                    "output_type": "stream",
                    "text": "3\n6\n1.2\n0\n"
                }
            ],
            "source": "x = 3\nprint(x)\n\nx*=2 #x = x*2\nprint(x)\nx/=5 #x= x/5\nprint(x)\n\nx = 3\nx>>=5 #x= x>>5  #reurns 0 (False)\nprint(x)"
        },
        {
            "cell_type": "markdown",
            "metadata": {},
            "source": "#### Logical Operator"
        },
        {
            "cell_type": "markdown",
            "metadata": {},
            "source": "1. and - True if both the operands are true \n2. or  - True if either of the operands is true  \n3. not - True if the operand is false (complements the operand)"
        },
        {
            "cell_type": "code",
            "execution_count": 14,
            "metadata": {},
            "outputs": [
                {
                    "name": "stdout",
                    "output_type": "stream",
                    "text": "False\nFalse\nFalse\n"
                }
            ],
            "source": "x = 5\ny = 3\nprint(x>5 and y<2)\nprint(x<5 or y<2)\nprint(not y>2)"
        },
        {
            "cell_type": "markdown",
            "metadata": {},
            "source": "#### Bit Wise Operator"
        },
        {
            "cell_type": "markdown",
            "metadata": {},
            "source": "The bitwise operator in python performs bit by bit operation on the values of the two operands."
        },
        {
            "cell_type": "code",
            "execution_count": 15,
            "metadata": {},
            "outputs": [
                {
                    "name": "stdout",
                    "output_type": "stream",
                    "text": "4\n"
                },
                {
                    "data": {
                        "text/plain": "'\\na = 0100\\nb = 0101\\n\\na&b = 0101\\n     &0110\\n     0100 i.e.4\\n'"
                    },
                    "execution_count": 15,
                    "metadata": {},
                    "output_type": "execute_result"
                }
            ],
            "source": "a = 5\nb = 6\nprint(a&b)  #&\n\n#How it works\n'''\na = 0100\nb = 0101\n\na&b = 0101\n     &0110\n     0100 i.e.4\n'''"
        },
        {
            "cell_type": "markdown",
            "metadata": {},
            "source": "#### Relational Operator"
        },
        {
            "cell_type": "markdown",
            "metadata": {},
            "source": "Comparison operators are used to compare two values of two operands present on either side of the operator, return boolean value True or False. These comparison operators can be combined with the arithmetic and bitwise operators. They are also called Relational operators in python."
        },
        {
            "cell_type": "code",
            "execution_count": 16,
            "metadata": {},
            "outputs": [
                {
                    "name": "stdout",
                    "output_type": "stream",
                    "text": "False\nTrue\nFalse\nTrue\nFalse\nTrue\n"
                }
            ],
            "source": "x = 4\ny = 5\n\nprint(x == y) #Equal\nprint(x!=y) #Not equal\nprint(x>y) #Greater than\nprint(x<y) #Less than\nprint(x>=y) #Greater than or equal to\nprint(x<=y) #Less than or equal to"
        },
        {
            "cell_type": "markdown",
            "metadata": {},
            "source": "#### Identity Operator"
        },
        {
            "cell_type": "markdown",
            "metadata": {},
            "source": "Identity operators in python are used to check the object identity of two operands which doesn\u2019t mean equality (==). We use \u2018is\u2019 and \u2018is not\u2019 operators.\n\nActually, Identity operators compare the same operands with the same memory locations. Two variables that are equal does not imply that they are identical."
        },
        {
            "cell_type": "code",
            "execution_count": 18,
            "metadata": {},
            "outputs": [
                {
                    "name": "stdout",
                    "output_type": "stream",
                    "text": "True\nFalse\n"
                }
            ],
            "source": "a = 6\nb = 6\nprint(a==b)\n\nc = [5,6]\nd = [8,9]\nprint(c ==d)"
        },
        {
            "cell_type": "markdown",
            "metadata": {},
            "source": "#### Membership Operator"
        },
        {
            "cell_type": "markdown",
            "metadata": {},
            "source": "Python\u2019s membership operators test whether a value or variable is found in a sequence (string, list, tuple, set, and dictionary). If the value is present in the data structure, then the resulting value is true otherwise it returns false."
        },
        {
            "cell_type": "code",
            "execution_count": 19,
            "metadata": {},
            "outputs": [
                {
                    "name": "stdout",
                    "output_type": "stream",
                    "text": "True\nFalse\n"
                }
            ],
            "source": "print(4 in [2,4,6,8])\nprint('e' not in {'a','e','i','o','u'})"
        },
        {
            "cell_type": "markdown",
            "metadata": {},
            "source": "### Operator Precedence"
        },
        {
            "cell_type": "markdown",
            "metadata": {},
            "source": "1. ()\n2. **\n3. +x, -x, ~x\n4. *, /, //, %\n5. +, -\n6. <<, >>\n7. &\n8. ^\n9. |\n10. ==, !=, >, >=, <, <=, is,is not, in, not in\n11. not\n12. and \n13. or"
        },
        {
            "cell_type": "markdown",
            "metadata": {},
            "source": "## Conditional"
        },
        {
            "cell_type": "markdown",
            "metadata": {},
            "source": "Let us suppose a condition where we need to execute a certain part of code based on condition satisfied.\n\n Using control flow, decision making allows us to run a particular block of code for a particular decision until the condition is satisfied."
        },
        {
            "cell_type": "code",
            "execution_count": 21,
            "metadata": {},
            "outputs": [
                {
                    "name": "stdout",
                    "output_type": "stream",
                    "text": "enter the no 5\n5  is lesser than 5\n"
                }
            ],
            "source": "#If the condition provided in the if statement is false, then the else statement will be executed.\n\n#To check no entered by user is greater than 5 or not\nx = int(input(\"enter the no \"))\nif x>5:\n    print(x,\" is greater\")  #indentation - Spaces or tabs used in the beginning of the code is known as indentation. Indentation is used to python to indicate which block of code a statement belongs to.\nelse: \n    print(x, \" is lesser than 5\")"
        },
        {
            "cell_type": "code",
            "execution_count": 22,
            "metadata": {},
            "outputs": [
                {
                    "name": "stdout",
                    "output_type": "stream",
                    "text": "enter the no 5\n5  is equal to 5\n"
                }
            ],
            "source": "#what if user enter 5\n#The if-else statement provides an else block combined with the if statement which is executed in the false case of the condition.\n\nx = int(input(\"enter the no \"))\nif x>5:\n    print(x,\" is greater than 5\")\nelif x==5:\n    print(x, \" is equal to 5\")\nelse: \n    print(x, \" is lesser than 5\")\n"
        },
        {
            "cell_type": "code",
            "execution_count": null,
            "metadata": {},
            "outputs": [],
            "source": "#To find the no is even or odd\nx = int(input(\"enter the no \"))\nif x%2==0:\n    print(\"no is even\")\nelse:\n    print(\"no is odd\")"
        },
        {
            "cell_type": "markdown",
            "metadata": {},
            "source": "## HW"
        },
        {
            "cell_type": "code",
            "execution_count": null,
            "metadata": {},
            "outputs": [],
            "source": "#To find the Largest Number out of 3 Numbers:\n#To find year is a leap year or not\n#To find whether the no is prime or not"
        }
    ],
    "metadata": {
        "kernelspec": {
            "display_name": "Python 3.9",
            "language": "python",
            "name": "python3"
        },
        "language_info": {
            "codemirror_mode": {
                "name": "ipython",
                "version": 3
            },
            "file_extension": ".py",
            "mimetype": "text/x-python",
            "name": "python",
            "nbconvert_exporter": "python",
            "pygments_lexer": "ipython3",
            "version": "3.9.7"
        }
    },
    "nbformat": 4,
    "nbformat_minor": 1
}