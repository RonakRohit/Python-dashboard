{
    "cells": [
        {
            "cell_type": "markdown",
            "metadata": {
                "collapsed": true
            },
            "source": "## Python Live Class - Day 3"
        },
        {
            "cell_type": "markdown",
            "metadata": {},
            "source": "-Rohit Kaushik"
        },
        {
            "cell_type": "markdown",
            "metadata": {},
            "source": "## Functions"
        },
        {
            "cell_type": "code",
            "execution_count": 1,
            "metadata": {},
            "outputs": [],
            "source": "#ARBITRARY ARGUMENTS"
        },
        {
            "cell_type": "markdown",
            "metadata": {},
            "source": "We can pass arguments less than parameters when default parameters are declared. But what if we pass more numbers of arguments than parameters defined?"
        },
        {
            "cell_type": "markdown",
            "metadata": {},
            "source": "Python allows us to pass an arbitrary number of arguments into a function and then process those arguments inside the function. To define a parameter list as being of arbitrary length, a parameter is marked with an asterisk (*)."
        },
        {
            "cell_type": "code",
            "execution_count": 2,
            "metadata": {},
            "outputs": [
                {
                    "name": "stdout",
                    "output_type": "stream",
                    "text": "Welcome Chetan\nWelcome Satyam\nWelcome Puspendu\nWelcome Siddarth\nWelcome Sameer\nWelcome Aditya\n"
                }
            ],
            "source": "def names(*args):\n    for x in args:\n        print('Welcome',x)\n\nnames('Chetan', 'Satyam', 'Puspendu', 'Siddarth', 'Sameer', \"Aditya\")"
        },
        {
            "cell_type": "markdown",
            "metadata": {},
            "source": "### Lambda Function"
        },
        {
            "cell_type": "markdown",
            "metadata": {},
            "source": "Lambda function is an anonymous function that takes any number of arguments but takes only one expression. An anonymous function is a function defined without a name. Normal functions are defined using the def keyword whereas anonymous functions are defined using the lambda keyword."
        },
        {
            "cell_type": "markdown",
            "metadata": {},
            "source": "Syntax:\n    \nlambda arguments : expression"
        },
        {
            "cell_type": "code",
            "execution_count": 3,
            "metadata": {},
            "outputs": [
                {
                    "name": "stdout",
                    "output_type": "stream",
                    "text": "7\n"
                }
            ],
            "source": "#Add two numbers\nx = lambda a,b: a+b\n\nprint(x(3,4))"
        },
        {
            "cell_type": "code",
            "execution_count": 4,
            "metadata": {},
            "outputs": [
                {
                    "name": "stdout",
                    "output_type": "stream",
                    "text": "24\n<class 'function'>\n"
                }
            ],
            "source": "#Multiply three numbers\nx = lambda a,b,c: a*b*c\nprint(x(2,3,4))\nprint(type(x))"
        },
        {
            "cell_type": "markdown",
            "metadata": {},
            "source": "Lambda function is used when we need a nameless function for a short period of time. We generally use the lambda function inside another function."
        },
        {
            "cell_type": "code",
            "execution_count": 5,
            "metadata": {},
            "outputs": [
                {
                    "name": "stdout",
                    "output_type": "stream",
                    "text": "15\n"
                }
            ],
            "source": "def area(l,b):\n    return lambda l,b: l*b\n\n#x= int(input(\"Enter the length \"))\n#y= int(input(\"Enter the breadth\"))\nf = (area(2,4))\nprint(f(3,5))"
        },
        {
            "cell_type": "code",
            "execution_count": 6,
            "metadata": {},
            "outputs": [
                {
                    "name": "stdout",
                    "output_type": "stream",
                    "text": "3\n"
                }
            ],
            "source": "def normal_function(n): \n    return lambda a : a - n \ncallfn = normal_function(2)  \nprint(callfn(5))"
        },
        {
            "cell_type": "markdown",
            "metadata": {},
            "source": "Lambda functions can be used together with Python's built-in functions like map( ), filter( ), reduce( ), etc."
        },
        {
            "cell_type": "markdown",
            "metadata": {},
            "source": "#### Lambda with filter()"
        },
        {
            "cell_type": "markdown",
            "metadata": {},
            "source": "The filter() function takes a lambda function together with a list as the arguments. This function can be used to filter out all the elements of a list which satisfies the condition and returns a new list."
        },
        {
            "cell_type": "code",
            "execution_count": 7,
            "metadata": {},
            "outputs": [
                {
                    "name": "stdout",
                    "output_type": "stream",
                    "text": "[3, 6, 9]\n"
                }
            ],
            "source": "old_list =[1,2,3,4,5,6,7,8,9,10]\nnew_list = list(filter(lambda x:(x%3==0), old_list))\nprint(new_list)"
        },
        {
            "cell_type": "markdown",
            "metadata": {},
            "source": "#### Lambda with Map()"
        },
        {
            "cell_type": "markdown",
            "metadata": {},
            "source": "The map() function takes a function together with a list as the argument. This function can be used to generate elements of a list returned by that function for each item."
        },
        {
            "cell_type": "code",
            "execution_count": 8,
            "metadata": {},
            "outputs": [
                {
                    "name": "stdout",
                    "output_type": "stream",
                    "text": "[4, 5, 6, 7, 8, 9, 10, 11, 12, 13]\n"
                }
            ],
            "source": "old_list =[1,2,3,4,5,6,7,8,9,10]\nnew_list = list(map(lambda x:x+3, old_list))\nprint(new_list)"
        },
        {
            "cell_type": "markdown",
            "metadata": {},
            "source": "### Function Overloading"
        },
        {
            "cell_type": "markdown",
            "metadata": {},
            "source": "Function overloading, one of the features of object-oriented programming, is defined as the ability to create various functions with the same name but different in parameters and arguments.\n\nIn reality, Python doesn't support function overloading. The latest created function replaces all the other previous functions."
        },
        {
            "cell_type": "code",
            "execution_count": 9,
            "metadata": {},
            "outputs": [
                {
                    "name": "stdout",
                    "output_type": "stream",
                    "text": "78.5\n"
                }
            ],
            "source": "def area():\n    l = int(input(\"enter the length\"))\n    b = int(input(\"enter the breadth\"))\n    print(l*b)\n\ndef area(l,b):\n    print(l*b)\n    \ndef area(a):\n    print(3.14*a*a)\n\n#area(3,4)  #error as area takes 1 positional argument but 2 were given\narea(5)"
        },
        {
            "cell_type": "markdown",
            "metadata": {},
            "source": "### Recursion"
        },
        {
            "cell_type": "markdown",
            "metadata": {},
            "source": "Recursion is defined as the process in which a function calls itself as a subroutine. The same function is called repeatedly by itself until the stopping condition is met. Recursion is taken as an efficient method of coding since we require very less code to write a complete program.\n\nThe disadvantage of recursion is that it increases the complexity of the program and is harder to debug."
        },
        {
            "cell_type": "code",
            "execution_count": 10,
            "metadata": {},
            "outputs": [
                {
                    "name": "stdout",
                    "output_type": "stream",
                    "text": "sum of how many natural nos?5\n15\n"
                }
            ],
            "source": "#Sum of n natural nos. using recursion\ndef sum_nos(x):\n    if (x==1):\n        return 1\n    return (x + sum_nos(x-1))\n\na = int(input(\"sum of how many natural nos?\"))\nprint(sum_nos(a))"
        },
        {
            "cell_type": "code",
            "execution_count": 11,
            "metadata": {},
            "outputs": [
                {
                    "data": {
                        "text/plain": "'Process involved:\\n5 + sum_nos(4) : First iteration \\n4 + sum_nos(3) : Second iteration \\n3 + sum_nos(2) : Third iteration \\n2 + sum_nos(2) : Fourth iteration \\n1 : (stopping condition met)\\n'"
                    },
                    "execution_count": 11,
                    "metadata": {},
                    "output_type": "execute_result"
                }
            ],
            "source": "'''Process involved:\n5 + sum_nos(4) : First iteration \n4 + sum_nos(3) : Second iteration \n3 + sum_nos(2) : Third iteration \n2 + sum_nos(2) : Fourth iteration \n1 : (stopping condition met)\n'''"
        },
        {
            "cell_type": "markdown",
            "metadata": {},
            "source": "Unless we explicitly set the maximum limit of recursions, the program by default will throw a Recursion error after 1000 recursions."
        },
        {
            "cell_type": "markdown",
            "metadata": {},
            "source": "## HW"
        },
        {
            "cell_type": "code",
            "execution_count": 12,
            "metadata": {},
            "outputs": [],
            "source": "#To find factorial of a number using Recursion"
        },
        {
            "cell_type": "markdown",
            "metadata": {},
            "source": "## Array"
        },
        {
            "cell_type": "markdown",
            "metadata": {},
            "source": "An array is used to store a collection of data, but it is often useful to think of an array as a collection of values of the same type. So, arrays are similar to lists but with one difference that we need to have all the values of the same type. The main advantage of arrays is that they do not have a specific size which means we can expand or shrink it."
        },
        {
            "cell_type": "markdown",
            "metadata": {},
            "source": "Python does not have built-in support for Arrays, but Python Lists can be used instead. To work with arrays in Python we need to import a library and Numpy is one of the libraries used. Here, we will be importing a module called array."
        },
        {
            "cell_type": "code",
            "execution_count": 13,
            "metadata": {},
            "outputs": [],
            "source": "import array\n\n#OR\n\nimport array as arr #we can use aliases which is an alternate term for a given data entity which is typically simpler to recognize"
        },
        {
            "cell_type": "markdown",
            "metadata": {},
            "source": "While creating an array we have to specify two things: \n1. Type \n2. Values"
        },
        {
            "cell_type": "markdown",
            "metadata": {},
            "source": "In an array all the values should be of the same data type. If we have an array and its value as an integer we have to mention it is an int array. If it is a float array we have to mention it as a float.\nType Code--Python Type\n1. b - int\n2. i - int\n3. f - float\n4. u - Unicode"
        },
        {
            "cell_type": "code",
            "execution_count": 14,
            "metadata": {},
            "outputs": [
                {
                    "name": "stdout",
                    "output_type": "stream",
                    "text": "10\n20\n30\n40\n50\n"
                }
            ],
            "source": "import array as arr\nmarks = arr.array('i', [10,20,30,40,50])\n\nfor x in range(5):\n    print(marks[x])"
        },
        {
            "cell_type": "markdown",
            "metadata": {},
            "source": "buffer info gives the size of an array in tuple form like (a, b) where a is the address of array and size of an array."
        },
        {
            "cell_type": "code",
            "execution_count": 15,
            "metadata": {},
            "outputs": [
                {
                    "name": "stdout",
                    "output_type": "stream",
                    "text": "(140659377722512, 5)\n"
                }
            ],
            "source": "print(marks.buffer_info())"
        },
        {
            "cell_type": "markdown",
            "metadata": {},
            "source": "Arrays are mutable i.e their elements can be changed in a similar way like lists. Using the built-in insert() function we can add elements to the array."
        },
        {
            "cell_type": "code",
            "execution_count": 16,
            "metadata": {},
            "outputs": [
                {
                    "name": "stdout",
                    "output_type": "stream",
                    "text": "5\n10\n20\n30\n40\n50\n70\n"
                }
            ],
            "source": "marks.insert(0,5) #inserting 5 at position 0\nmarks.append(70) #inserting 70 at the end of array\n\nfor x in range(7):\n    print(marks[x])"
        },
        {
            "cell_type": "code",
            "execution_count": 17,
            "metadata": {},
            "outputs": [
                {
                    "name": "stdout",
                    "output_type": "stream",
                    "text": "5\n10\n15\n30\n40\n50\n70\n"
                }
            ],
            "source": "marks[2]=15 #updating 15 at position 2\n\nfor x in range(7):\n    print(marks[x])"
        },
        {
            "cell_type": "code",
            "execution_count": 18,
            "metadata": {},
            "outputs": [
                {
                    "name": "stdout",
                    "output_type": "stream",
                    "text": "5\n10\n30\n40\n50\n70\n"
                }
            ],
            "source": "del marks[2] #removing value at position 2\n\nfor x in range(6):\n    print(marks[x])"
        },
        {
            "cell_type": "code",
            "execution_count": 19,
            "metadata": {},
            "outputs": [
                {
                    "data": {
                        "text/plain": "4"
                    },
                    "execution_count": 19,
                    "metadata": {},
                    "output_type": "execute_result"
                }
            ],
            "source": "#New array with same value\nfrom array import*\nold_array = arr.array('i', [10,20,30,40,50,60])\nnew_array = array(old_array.typecode,(i for i in old_array))\n\nnew_array\nnew_array.index(50) #to search the index of value"
        },
        {
            "cell_type": "code",
            "execution_count": 20,
            "metadata": {},
            "outputs": [
                {
                    "data": {
                        "text/plain": "array('i', [100, 400, 900, 1600, 2500, 3600])"
                    },
                    "execution_count": 20,
                    "metadata": {},
                    "output_type": "execute_result"
                }
            ],
            "source": "import array as arr\nfrom array import*\nold_array = arr.array('i', [10,20,30,40,50,60])\nnew_array1 = array(old_array.typecode, (i**2 for i in old_array))  #new array with a square of the previous value\nnew_array1"
        },
        {
            "cell_type": "markdown",
            "metadata": {},
            "source": "#### Convert list into array\nLists can be converted to arrays using the built-in functions in the Python NumPy library. NumPy provides us with two functions to convert a list into an array: 1. numpy.array() 2. numpy.asarray()"
        },
        {
            "cell_type": "code",
            "execution_count": 22,
            "metadata": {},
            "outputs": [
                {
                    "name": "stdout",
                    "output_type": "stream",
                    "text": "<class 'list'>\n<class 'numpy.ndarray'>\n"
                }
            ],
            "source": "import numpy as np\nold_list = [10,20,30,40,50,60]\nprint(type(old_list))\nlist_to_array = np.array(old_list)  #using numpy.array()\nlist_to_array\n\nprint(type(list_to_array))"
        },
        {
            "cell_type": "code",
            "execution_count": 23,
            "metadata": {},
            "outputs": [
                {
                    "data": {
                        "text/plain": "array([10, 20, 30, 40, 50, 60])"
                    },
                    "execution_count": 23,
                    "metadata": {},
                    "output_type": "execute_result"
                }
            ],
            "source": "list_to_array1 = np.asarray(old_list)  #using numpy.asarray()\nlist_to_array1"
        },
        {
            "cell_type": "markdown",
            "metadata": {},
            "source": "The main difference between np.array() and np.asarray() is that np.array() will make a copy of the object (by default) and convert that to an array, while np.asarray() will not."
        },
        {
            "cell_type": "markdown",
            "metadata": {},
            "source": "## Python as OOP"
        },
        {
            "cell_type": "markdown",
            "metadata": {},
            "source": "Procedural programming focuses on function and procedure whereas object-oriented programming focuses on class and objects. OOP binds the data and the functions that operate on them so that data can be abstracted, which is one of the important features of object-oriented programming. These objects are organized into classes, which allow individual objects to be grouped together."
        },
        {
            "cell_type": "markdown",
            "metadata": {},
            "source": "The important features of Object-Oriented programming are:\n\n\u25cf Class & Object \n\n\u25cf Abstraction \n\n\u25cf Encapsulation \n\n\u25cf Inheritance \n\n\u25cf Polymorphism"
        },
        {
            "cell_type": "markdown",
            "metadata": {},
            "source": "### Class & Object\nClass is a user-defined data type, which holds its own data members and member functions, which can be accessed and used by creating an instance of that class. A class also describes object behavior.\n\nAn object is a real-life entity. An object is the collection of various data and functions that operate on those data. Everything is in Python treated as an object, including variable, function, list, tuple, dictionary, set, etc. Every object belongs to its class. "
        },
        {
            "cell_type": "code",
            "execution_count": 24,
            "metadata": {},
            "outputs": [
                {
                    "name": "stdout",
                    "output_type": "stream",
                    "text": "I am John from Bikaner\n"
                }
            ],
            "source": "class person:\n    name = \"John\"               #instance attribute\n    city = \"Bikaner\"            #instance attribute\n    def display(self):          #instance method\n        print('I am',self.name,'from' , self.city)\n\n#Creating an instance of class person\np = person()\np.display()       #.operator to access the class function"
        },
        {
            "cell_type": "code",
            "execution_count": 34,
            "metadata": {},
            "outputs": [
                {
                    "data": {
                        "text/plain": "'you can buy this smartphone'"
                    },
                    "execution_count": 34,
                    "metadata": {},
                    "output_type": "execute_result"
                }
            ],
            "source": "class smartphones:\n    def mobile(self, name, model, price):   #instance method\n        self.name = name\n        self.model = model\n        self.price = price\n    def buy(self):                           #instance method\n        if(self.name =='Samsung' and self.price<=10000):\n            return('you can buy this smartphone')\n        else:\n            return('it is expensive')\ns1 = smartphones()\ns1.mobile('Samsung', 'M02', 9999)\ns1.buy()\n\n"
        },
        {
            "cell_type": "markdown",
            "metadata": {},
            "source": "#### Constructor\nConstructor is used for initializing the instance members when we create the object of a class. A constructor always has a name init and the name init is prefixed and suffixed with a double underscore(_ _).\n\nAll classes have a function called init(), which is always executed when the class is being initiated. We use built-in init() function to assign values to object properties, or other operations that are necessary to do when the object is being created."
        },
        {
            "cell_type": "code",
            "execution_count": 26,
            "metadata": {},
            "outputs": [
                {
                    "name": "stdout",
                    "output_type": "stream",
                    "text": "Samsung\n"
                },
                {
                    "data": {
                        "text/plain": "'you can buy this smartphone'"
                    },
                    "execution_count": 26,
                    "metadata": {},
                    "output_type": "execute_result"
                }
            ],
            "source": "class smartphone:                                   #creating class\n    def __init__(self,name, price, model):          #constructor\n        self.name = name\n        self.price = price\n        self.model = model\n    def buy(self):                                      \n        if(self.name=='Samsung', self.price<10000):\n            return('you can buy this smartphone')\n        else:\n            return('it is expensive')\n\ns=smartphone(\"Samsung\", 9999,\"M02\")\nprint(s.name)                                      #accessing class attributes\ns.buy()                                            #accessing class method"
        },
        {
            "cell_type": "markdown",
            "metadata": {},
            "source": "Sometimes, we don't declare a constructor. In such condition, the default constructor is implicitly injected by python during program compilation. Generally, there are two types of constructors on the basis of parameters. \n1. default constructor: without any parameters \n2. parameterized constructor: with parameters"
        },
        {
            "cell_type": "code",
            "execution_count": 27,
            "metadata": {},
            "outputs": [
                {
                    "name": "stdout",
                    "output_type": "stream",
                    "text": "30\n"
                }
            ],
            "source": "class number:\n    def __init__(self):      #default constructor\n        self.num = 30\np = number()\nprint(p.num)"
        },
        {
            "cell_type": "code",
            "execution_count": 28,
            "metadata": {},
            "outputs": [
                {
                    "name": "stdout",
                    "output_type": "stream",
                    "text": "30\n"
                }
            ],
            "source": "class number:\n    def __init__(self,num):\n        self.num = num\np = number(30)\nprint(p.num)"
        },
        {
            "cell_type": "markdown",
            "metadata": {},
            "source": "Self in the constructor is used to access variables that belong to the class and self is defined as the reference to the current instance of the class. We need not give the same name self, that means we can name it like variables but it has to be the first parameter of any function in the class"
        },
        {
            "cell_type": "code",
            "execution_count": 29,
            "metadata": {},
            "outputs": [
                {
                    "name": "stdout",
                    "output_type": "stream",
                    "text": "30\n"
                }
            ],
            "source": "class number:\n    def __init__(n, num):\n        n.num = num\np = number(30)\nprint(p.num)"
        },
        {
            "cell_type": "markdown",
            "metadata": {},
            "source": "#### Destructor \ndel() method is known as a destructor method in Python. Destructors are called when an object needs to be destroyed. Destructors are used to delete unneeded objects to free the memory space."
        },
        {
            "cell_type": "code",
            "execution_count": 30,
            "metadata": {},
            "outputs": [
                {
                    "name": "stdout",
                    "output_type": "stream",
                    "text": "2\n"
                },
                {
                    "ename": "NameError",
                    "evalue": "name 'obj1' is not defined",
                    "output_type": "error",
                    "traceback": [
                        "\u001b[0;31m---------------------------------------------------------------------------\u001b[0m",
                        "\u001b[0;31mNameError\u001b[0m                                 Traceback (most recent call last)",
                        "\u001b[0;32m/tmp/wsuser/ipykernel_638/2089346675.py\u001b[0m in \u001b[0;36m<module>\u001b[0;34m\u001b[0m\n\u001b[1;32m      8\u001b[0m \u001b[0;34m\u001b[0m\u001b[0m\n\u001b[1;32m      9\u001b[0m \u001b[0;32mdel\u001b[0m \u001b[0mobj1\u001b[0m\u001b[0;34m\u001b[0m\u001b[0;34m\u001b[0m\u001b[0m\n\u001b[0;32m---> 10\u001b[0;31m \u001b[0mprint\u001b[0m\u001b[0;34m(\u001b[0m\u001b[0mobj1\u001b[0m\u001b[0;34m.\u001b[0m\u001b[0my\u001b[0m\u001b[0;34m)\u001b[0m \u001b[0;31m#error as object is deleted or obj1 is not defined\u001b[0m\u001b[0;34m\u001b[0m\u001b[0;34m\u001b[0m\u001b[0m\n\u001b[0m",
                        "\u001b[0;31mNameError\u001b[0m: name 'obj1' is not defined"
                    ]
                }
            ],
            "source": "class number:\n    def __init__(n):\n        n.x = 2\n        n.y = 3\n\nobj1 = number()\nprint(obj1.x)\n\ndel obj1\nprint(obj1.y) #error as object is deleted or obj1 is not defined"
        },
        {
            "cell_type": "markdown",
            "metadata": {},
            "source": "### Inheritance"
        },
        {
            "cell_type": "markdown",
            "metadata": {},
            "source": "Inheritance refers to the concept of inheriting behaviors of the existing class to the new classes or objects. It means many child classes can be derived from the parent class with some or behaviors inherited. Child classes are also known as derived classes.\n\nThe main advantage of using this concept of inheritance in Object-oriented programming is reusability."
        },
        {
            "cell_type": "code",
            "execution_count": 35,
            "metadata": {},
            "outputs": [
                {
                    "name": "stdout",
                    "output_type": "stream",
                    "text": "Happy birthday to you Sarthak\n"
                }
            ],
            "source": "class Person:\n    def __init__(self, name, age):\n        self.name = name\n        self.age = age\n    def birthday(self):\n        print('Happy birthday to you', self.name)\n#Now we are going to define Employee as being a class that inherits the class Person.\n\nclass Employee(Person):\n    def __init__(self, name, age, id):\n        super().__init__(name,age)\n        self.id = id\n        \ne=Employee(\"Sarthak\", 21, 3101)\ne.birthday()"
        },
        {
            "cell_type": "markdown",
            "metadata": {},
            "source": "### Polymorphism"
        },
        {
            "cell_type": "markdown",
            "metadata": {},
            "source": "Polymorphism refers to certain items appearing in different forms or ways. Polymorphism provides the ability for classes to provide different implementations of methods that are called through the same name. Overloading is a kind of polymorphism. It allows a single name or operator to be associated with different operations, depending on the type of data it has passed. \n\nPolymorphism is one of the main features of OOP as it extends the handling of data types and operations."
        },
        {
            "cell_type": "code",
            "execution_count": 36,
            "metadata": {},
            "outputs": [
                {
                    "name": "stdout",
                    "output_type": "stream",
                    "text": "Cricket is played with hands\nFootball is played with legs\n"
                }
            ],
            "source": "class Cricket:\n    def play(self):\n        print(\"Cricket is played with hands\")\n\nclass Football:\n    def play(self):\n        print(\"Football is played with legs\")\n\na = Cricket()\nb = Football()\n\nfor game in (a,b):\n    game.play()"
        },
        {
            "cell_type": "markdown",
            "metadata": {},
            "source": "This shows that Python is using these methods in a way without knowing or caring exactly what class type each of these objects is."
        },
        {
            "cell_type": "markdown",
            "metadata": {},
            "source": "### Abstraction\n\nAbstraction refers to the process of hiding the internal behavior of the program and showing only user understandable code. It hides the internal structures, data types, objects, and functions which helps developers make changes and additions over time more easily. By virtue of data abstraction only the essential details are displayed to the user hiding any unnecessary implementation code. \n\nLet\u2019s take a famous real-world example of a man calling his friend. The man needs to know to dial numbers or needs to know to pick up the phone. But he doesn\u2019t know how his phone gets connected to his remote friend. This is what abstraction is."
        },
        {
            "cell_type": "markdown",
            "metadata": {},
            "source": "### Encapsulation\n\nEncapsulation is defined as the hiding of sensitive data from the user by wrapping data under a single unit. Data of a class is encapsulated so that other classes and objects can\u2019t access those data without special access permission. Encapsulation provides greater data security. To achieve encapsulation, we must declare class variables/attributes as private. Private is an access specifier that defines how the members (attributes and methods) of a class can be accessed. Other access specifiers are public, protected."
        },
        {
            "cell_type": "markdown",
            "metadata": {},
            "source": "## File Handling"
        },
        {
            "cell_type": "markdown",
            "metadata": {},
            "source": "A file can be defined as an object on a computer that stores data, information, settings, or commands used with a computer program. File, identified by a filename, can be a document, picture, audio or video stream, data library, application, or other collection of data.\n\nWe typically break data into two categories i.e. text file and binary(computer-readable) file."
        },
        {
            "cell_type": "markdown",
            "metadata": {},
            "source": "#### Open()\nIn Python, the open () function is used to open a file in read or write mode. open() function which requires two arguments, first argument stores file path or file name, and the second argument is known as a mode to open the file. \n\nThere are various methods (modes) for opening a file: \n1. \u201cr\u201d: opens read-only, but you can not modify or erase anything inside the file, generates an error if the file does not exist \n2. \u201cw\u201d: opens with write control, creates the file if it does not exist \n3. \u201ca\u201d: opens in append mode, creates the file if it does not exist \n4. \u201cx\u201d: opens a file for exclusive creation, returns an error if file exists \n5. \u201ct\u201d: opens text mode \n6. \u201cb\u201d: opens the binary mode  \n7. \u201c+\u201d: opens file for both reading and writing"
        },
        {
            "cell_type": "code",
            "execution_count": null,
            "metadata": {},
            "outputs": [],
            "source": "file1 = open(\"file.txt\", 'w')  #creates file if file.txt doesn't exist\nfile1 = open(\"file.txt\", 'rt') #open the file in read and text mode"
        },
        {
            "cell_type": "code",
            "execution_count": null,
            "metadata": {},
            "outputs": [],
            "source": "file1 = open(\"file.txt\") #by default open the file in rt mode"
        },
        {
            "cell_type": "markdown",
            "metadata": {},
            "source": "#### Read()\nThe read() method is used to read text from a file in Python. Usually read() is used to return the whole text, but we can also specify numbers of characters we want to read."
        },
        {
            "cell_type": "code",
            "execution_count": null,
            "metadata": {},
            "outputs": [],
            "source": "file1 = open(\"file.txt\", 'rt')\nprint(file1.read(5))\n\nprint(file1.readline())"
        },
        {
            "cell_type": "code",
            "execution_count": null,
            "metadata": {},
            "outputs": [],
            "source": "#We can read a file line-by-line using a for loop. This is both efficient and fast.\nfor line in file1:\n    print(line)"
        },
        {
            "cell_type": "markdown",
            "metadata": {},
            "source": "#### Write()\nTo write some text to a file we use the write() method. Firstly, we must add the following parameter to the open() function. \n1. \"a\" - Append - will append to the end of the file, creates a file if the specified file does not exist \n2. \"w\" - Write - will overwrite any existing content, creates a file if the specified file does not exist \n3. \"x\" - Write - opens a file for exclusive creation, returns an error if the file exists"
        },
        {
            "cell_type": "markdown",
            "metadata": {},
            "source": "It is always a good method to close a file after reading or writing on it. Hence we use the close() function for it. We'll have to re-open it if we want to read from it again."
        },
        {
            "cell_type": "code",
            "execution_count": null,
            "metadata": {},
            "outputs": [],
            "source": "file1 = open(\"file.txt\", 'w')\nfile1.write(\"This writes to the file\")\nfile1.close()"
        },
        {
            "cell_type": "markdown",
            "metadata": {},
            "source": "with statement can also be used in file handling which is designed to provide much cleaner syntax and exceptions handling when you are working with code. Any files opened will be closed automatically after you are done in this method."
        },
        {
            "cell_type": "code",
            "execution_count": null,
            "metadata": {},
            "outputs": [],
            "source": "with open(\"file.txt\", 'w') as file:\n    file.write(\"Hello World\")"
        },
        {
            "cell_type": "code",
            "execution_count": null,
            "metadata": {},
            "outputs": [],
            "source": "#Copy File\nfile1 = open(\"file.txt\", 'r')\nfile2 = open(\"new_file.txt\", 'w')\nfor x in file1:\n    file2.write(x)"
        },
        {
            "cell_type": "code",
            "execution_count": null,
            "metadata": {},
            "outputs": [],
            "source": "#Delete File\nimport os\nif os.path.exists(\"file.txt\"):\n    os.remove(\"file.txt\")\nelse:\n    print(\"file doesn't exist\")"
        },
        {
            "cell_type": "code",
            "execution_count": null,
            "metadata": {},
            "outputs": [],
            "source": "'''\n#How image is stored\nimg = open(\"image1.jpg\", 'rb')\nfor x in img:\n    print(x)\n'''"
        }
    ],
    "metadata": {
        "kernelspec": {
            "display_name": "Python 3.9",
            "language": "python",
            "name": "python3"
        },
        "language_info": {
            "codemirror_mode": {
                "name": "ipython",
                "version": 3
            },
            "file_extension": ".py",
            "mimetype": "text/x-python",
            "name": "python",
            "nbconvert_exporter": "python",
            "pygments_lexer": "ipython3",
            "version": "3.9.7"
        }
    },
    "nbformat": 4,
    "nbformat_minor": 1
}